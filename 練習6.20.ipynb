{
 "cells": [
  {
   "cell_type": "markdown",
   "id": "6d609f91",
   "metadata": {},
   "source": [
    "字串方法"
   ]
  },
  {
   "cell_type": "code",
   "execution_count": null,
   "id": "80077768",
   "metadata": {},
   "outputs": [
    {
     "name": "stdout",
     "output_type": "stream",
     "text": [
      "共有14個字元\n",
      "第一個空格在第4個\n",
      "第一個字變大寫Code shiba rex\n",
      "全部變大寫CODE SHIBA REX\n",
      "全部變小寫code shiba rex\n",
      "你的電話有0個恆短線\n",
      "您的電話12\n",
      "錯誤\n"
     ]
    }
   ],
   "source": [
    "#使用者名\n",
    "name = \"code shiba rex\"\n",
    "\n",
    "#幾個字元\n",
    "length = len(name)\n",
    "print(f\"共有{length}個字元\")\n",
    "\n",
    "#找到第一個空格\n",
    "space_pos = name.find(\" \")\n",
    "print(f\"第一個空格在第{space_pos}個\")\n",
    "\n",
    "#把第一個字變大寫\n",
    "name_capitalized = name.capitalize()\n",
    "print(f\"第一個字變大寫{name_capitalized}\")\n",
    "\n",
    "#全部字母變大寫\n",
    "name_upper = name.upper()\n",
    "print(f\"全部變大寫{name_upper}\")\n",
    "\n",
    "#全部變小寫\n",
    "name_lower = name.lower()\n",
    "print(f\"全部變小寫{name_lower}\")\n",
    "\n",
    "#找出有多少個-\n",
    "phon_number = input(\"請輸入號碼\")\n",
    "dash_count = phon_number.count(\"-\")\n",
    "print(f\"你的電話有{dash_count}個恆短線\")\n",
    "\n",
    "#取代\n",
    "phon_number = phon_number.replace(\"-\",\" \") #前面打要被取代的字，後面打取代他的字\n",
    "print(f\"您的電話{phon_number}\")\n",
    "\n",
    "#程式練習:驗證使用者輸入的合法性\n",
    "# 使用者名稱不可以超過12個字元\n",
    "# 使用者名稱不能包含空格\n",
    "# 不能有數字\n",
    "# 都符合顯示歡迎 + 使用者名稱\n",
    "\n",
    "name = input(\"請輸入使用者名稱\")\n",
    "if len(name)>12:\n",
    "    print(\"錯誤\")\n",
    "else:\n",
    "    if name.count(\" \")>0:\n",
    "        print(\"錯誤\")\n",
    "    else:\n",
    "        if name.isalpha():  #判斷字串是否全英文\n",
    "            print(f\"歡迎{name}\")\n",
    "        else:\n",
    "            print(\"錯誤\")\n"
   ]
  },
  {
   "cell_type": "markdown",
   "id": "3052860e",
   "metadata": {},
   "source": [
    "字串索引"
   ]
  },
  {
   "cell_type": "code",
   "execution_count": 10,
   "id": "5b0d6bfe",
   "metadata": {},
   "outputs": [
    {
     "name": "stdout",
     "output_type": "stream",
     "text": [
      "第一個字元1\n",
      "前四個字元123-\n",
      "最後一個字元3\n"
     ]
    }
   ],
   "source": [
    "creadit_number = \"123-223-323\"\n",
    "\n",
    "first_char = creadit_number[0]\n",
    "print(f\"第一個字元{first_char}\")\n",
    "\n",
    "first_four = creadit_number[0:4]\n",
    "print(f\"前四個字元{first_four}\")\n",
    "\n",
    "last_char = creadit_number[-1]\n",
    "print(f\"最後一個字元{last_char}\")"
   ]
  },
  {
   "cell_type": "markdown",
   "id": "caa25add",
   "metadata": {},
   "source": [
    "電子郵件字串分析"
   ]
  },
  {
   "cell_type": "code",
   "execution_count": 13,
   "id": "a696a7b9",
   "metadata": {},
   "outputs": [
    {
     "name": "stdout",
     "output_type": "stream",
     "text": [
      "11\n",
      "a0918235020\n",
      "a0918235020\n",
      "gmail.com\n"
     ]
    }
   ],
   "source": [
    "#index 找出@在第幾個索引\n",
    "email = \"a0918235020@gmail.com\"\n",
    "index = email.index(\"@\")\n",
    "print(index)\n",
    "print(email[0:index])\n",
    "print(email[:index])\n",
    "print(email[index+1:])"
   ]
  }
 ],
 "metadata": {
  "kernelspec": {
   "display_name": "Python [conda env:pytorch_env]",
   "language": "python",
   "name": "pytorch_env"
  },
  "language_info": {
   "codemirror_mode": {
    "name": "ipython",
    "version": 3
   },
   "file_extension": ".py",
   "mimetype": "text/x-python",
   "name": "python",
   "nbconvert_exporter": "python",
   "pygments_lexer": "ipython3",
   "version": "3.12.4"
  }
 },
 "nbformat": 4,
 "nbformat_minor": 5
}
